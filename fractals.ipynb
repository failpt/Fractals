{
 "cells": [
  {
   "cell_type": "markdown",
   "id": "4546dc98",
   "metadata": {},
   "source": [
    "# Фрактали: інтерактивний гайд. Побудова зображень природних об’єктів за допомогою фракталів\n",
    "## Актуальність роботи\n",
    "Програмне вирішення певного класу задач математичного аналізу. Візуалізація теоретичних фактів математичного аналізу для покращення їх розуміння в процесі вивчення теорії.\n",
    "## Мета роботи\n",
    "Створення інтерактивного навчального посібника з фракталів, який може допомогти дізнатися про цю захоплюючу та важливу математичну концепцію. Інтерактивний навчальний посібник охоплюватиме основи фракталів, включаючи їх концепцію, приклади та застосування. Також буде включати розділ про генерацію зображень природних об'єктів за допомогою фракталів. Проект програмування дозволить створювати зображення природних об’єктів, які базуються на фрактальних візерунках.\n",
    "## Задачі\n",
    "- Дослідження теми фракталів\n",
    "- Створення інтерактивного навчального посібника з фракталів.\n",
    "- Програмування генерації зображень природних об'єктів за допомогою фракталів.\n",
    "- Тестування інтерактивного навчального посібника\n",
    "- Підготовка презентації до захисту випускної роботи."
   ]
  },
  {
   "cell_type": "markdown",
   "id": "fd74269e",
   "metadata": {},
   "source": [
    "## Означення\n",
    "Фрактал — це математичний об'єкт, який відрізняється самоподібністю на всіх масштабах і характеризується фрактальною розмірністю, яка перевищує топологічну розмірність. Фрактальна структура може виявлятися на кожному рівні деталізації, при цьому інтервали, які розглядаються на кожному рівні, можуть вар'юватися. Тобто при збільшенні ділянки фракталу з'являється структура, схожа на структуру вихідного об'єкта.\n",
    "\n",
    "Фрактали можуть бути математично сформульовані за допомогою рекурсивних алгоритмів. Вони знаходять застосування в численних наукових дисциплінах, включаючи фізику, математику, біологію, а також в комп'ютерній графіці та візуалізації складних структур. Їх властивості роблять їх ідеально підходящими для моделювання природних явищ.\n",
    "У минулому математика в основному займалася множинами та функціями, до яких можна застосувати методи класичного числення. Набори або функції, які не є достатньо гладкими чи регулярними, як правило, ігноруються як «патологічні» та не заслуговують на вивчення. Звичайно, їх вважали індивідуальними дивовижними речами і лише рідко розглядали як клас, до якого може бути застосована загальна теорія. В останні роки це ставлення змінилося. Було зрозуміло, що про математику негладких об’єктів можна багато сказати і варто сказати. Крім того, нерегулярні набори забезпечують набагато краще представлення багатьох природних явищ, ніж фігури класичної геометрії. Фрактальна геометрія забезпечує загальну основу для вивчення таких нерегулярних наборів. \n",
    "Коли ми називаємо множину F фракталом, ми зазвичай маємо на увазі наступне: \n",
    "- F має тонку структуру, тобто деталі в довільно малих масштабах. \n",
    "- F є занадто нерегулярним, щоб описати його традиційною геометричною мовою, як локально, так і глобально. \n",
    "- Часто F має певну форму самоподібності, можливо, приблизної чи статистичної .\n",
    "- Зазвичай «фрактальна розмірність» F (визначена певним чином) більша, ніж її топологічна розмірність. \n",
    "- У більшості випадків F визначається дуже простим способом, можливо, рекурсивно.\n",
    "\n",
    "Мандельброт запропонував наступне пробне визначення фракталу: Фракталом називається безліч, розмірність Хаусдорфа - Безіковича якого строго більше його топологічної розмірності. Це визначення своєю чергою вимагає визначень термінів безліч, розмірність Хаусдорфа - Безиковича і топологічна розмірність, яка завжди дорівнює цілому. \n",
    "Мандельброт звузив своє попереднє визначення, запропонувавши замінити його наступним: \n",
    "Фракталом називається структура, що складається з частин, які в якомусь сенсі подібні до цілого. Суворого та повного визначення фракталів поки що не існує. Справа в тому, що перше визначення при всій правильності та точності занадто обмежувальне. Воно виключає багато фракталів, що зустрічаються у фізиці. Друге визначення містить істотну відмітну ознаку: фрактал виглядає однаково, в якому б масштабі його не спостерігати. Взяти хоча б деякі чудові купові хмари..."
   ]
  },
  {
   "cell_type": "markdown",
   "id": "ef53391f",
   "metadata": {},
   "source": [
    "## Найвідоміші фрактали\n",
    "### 1. Множина Кантора\n",
    "Множина Кантора є класичним прикладом математичної курйозної конструкції: це замкнена множина на прямій, яка має нульову міру Лебега, але є неконтабельною (не може бути відображена відповідно до множини натуральних чисел)."
   ]
  },
  {
   "cell_type": "code",
   "execution_count": 13,
   "id": "e95c8db1",
   "metadata": {
    "slideshow": {
     "slide_type": "subslide"
    }
   },
   "outputs": [
    {
     "data": {
      "application/vnd.jupyter.widget-view+json": {
       "model_id": "ffc23bd4f809429686ef119e0c9609b8",
       "version_major": 2,
       "version_minor": 0
      },
      "text/plain": [
       "interactive(children=(IntSlider(value=4, description='ітерації', max=10, min=1), Output()), _dom_classes=('wid…"
      ]
     },
     "metadata": {},
     "output_type": "display_data"
    },
    {
     "data": {
      "text/plain": [
       "<function __main__.cantor_set(iterations)>"
      ]
     },
     "execution_count": 13,
     "metadata": {},
     "output_type": "execute_result"
    }
   ],
   "source": [
    "import numpy as np\n",
    "import matplotlib.pyplot as plt\n",
    "from ipywidgets import interact, IntSlider\n",
    "\n",
    "def draw_cantor_set(start, length, depth, y, ax):\n",
    "    if depth == 0:\n",
    "        ax.plot([start, start + length], [y, y], color='black', lw=2)\n",
    "    else:\n",
    "        draw_cantor_set(start, length / 3, depth - 1, y, ax)\n",
    "        draw_cantor_set(start + length * 2 / 3, length / 3, depth - 1, y, ax)\n",
    "\n",
    "def cantor_set(iterations):\n",
    "    fig, ax = plt.subplots(figsize=(10, 5), facecolor='#FAFEFF')\n",
    "    for i in range(iterations):\n",
    "        draw_cantor_set(0, 1, i, 1 - i * 0.1, ax)\n",
    "    ax.invert_yaxis()\n",
    "    ax.set_aspect(aspect='auto')\n",
    "    ax.axis('off')\n",
    "    ax.set_title('Множина Кантора')\n",
    "    plt.rcParams.update({'axes.titlesize': 20})\n",
    "    plt.show()\n",
    "\n",
    "interact(cantor_set, iterations=IntSlider(min=1, max=10, step=1, value=4, description=\"ітерації\"))"
   ]
  },
  {
   "cell_type": "markdown",
   "id": "55868451",
   "metadata": {},
   "source": [
    "Створення множини Кантора можна представити як процес. Розглянемо відрізок $[0,1]$. На першому кроці видаляємо відкритий відрізок $(1/3,2/3)$, отримуючи два замкнених відрізки: $[0,1/3]$ та $[2/3,1]$. На кожному наступному кроці розділяємо кожний існуючий відрізок на три рівні частини і видаляємо середню. Процес продовжується нескінченно.\n",
    "\n",
    "### 2. Трикутник Серпінського\n",
    "Нехай $T_{0}$ буде рівностороннім трикутником. Для кожного трикутника, який ми отримаємо після $n$ ітерацій, позначимо його як $T_{n}$. Тоді трикутник Серпінського на $n$-й ітерації можна описати так: \n",
    "$$T_{n+1}=F(T_{n})$$\n",
    "де $F$ – це функція, яка бере трикутник $T_{n}$, розділяє його на чотири менших трикутники і видаляє центральний. "
   ]
  },
  {
   "cell_type": "markdown",
   "id": "d29c4298",
   "metadata": {},
   "source": [
    "Формально, якщо $T_{n}$ має вершини $A_{n}$, $B_{n}$, $C_{n}$, то $[0,1/3]$ буде складатися з трьох трикутників з вершинами $A_{n}$, $M_{A_{n}B_{n}}$, $M_{A_{n}C_{n}}$, $B_{n}$, $M_{A_{n}B_{n}}$, $M_{C_{n}B_{n}}$ та $C_{n}$, $M_{C_{n}B_{n}}$, $M_{A_{n}C_{n}}$, де $M_{XY}$ – це середина відрізка $XY$.\n",
    "Після нескінченного числа ітерацій ми отримаємо фрактал Серпінського, який можна описати як множину всіх точок, що належать хоча б одному з трикутників $T_{n}$ для всіх $n$."
   ]
  },
  {
   "cell_type": "code",
   "execution_count": 12,
   "id": "abd28240",
   "metadata": {
    "slideshow": {
     "slide_type": "slide"
    }
   },
   "outputs": [
    {
     "data": {
      "application/vnd.jupyter.widget-view+json": {
       "model_id": "1c6bf0f7f70241c98ba311612f91c70a",
       "version_major": 2,
       "version_minor": 0
      },
      "text/plain": [
       "interactive(children=(IntSlider(value=3, description='ітерації', max=7), Output()), _dom_classes=('widget-inte…"
      ]
     },
     "metadata": {},
     "output_type": "display_data"
    },
    {
     "data": {
      "text/plain": [
       "<function __main__.sierpinski(order, figsize=(8, 6))>"
      ]
     },
     "execution_count": 12,
     "metadata": {},
     "output_type": "execute_result"
    }
   ],
   "source": [
    "import numpy as np\n",
    "import matplotlib.pyplot as plt\n",
    "from ipywidgets import interact, FloatSlider, IntSlider, fixed\n",
    "\n",
    "def draw_sierpinski(order, ax, vertices):\n",
    "    if order == 0:\n",
    "        ax.fill(*zip(*vertices), '#000000')\n",
    "    else:\n",
    "        p1 = vertices[0]\n",
    "        p2 = vertices[1]\n",
    "        p3 = vertices[2]\n",
    "        mid12 = (p1 + p2) / 2\n",
    "        mid23 = (p2 + p3) / 2\n",
    "        mid31 = (p3 + p1) / 2\n",
    "        \n",
    "        draw_sierpinski(order - 1, ax, [p1, mid12, mid31])\n",
    "        draw_sierpinski(order - 1, ax, [mid12, p2, mid23])\n",
    "        draw_sierpinski(order - 1, ax, [mid31, mid23, p3])\n",
    "\n",
    "def sierpinski(order, figsize=(8, 6)):\n",
    "    fig, ax = plt.subplots(figsize=figsize, facecolor='#FAFEFF')\n",
    "    vertices = np.array([[0.5, np.sqrt(3)/2], [0, 0], [1, 0]])\n",
    "    draw_sierpinski(order, ax, vertices)\n",
    "    ax.set_axis_off()\n",
    "    ax.set_title('Трикутник Серпінського')\n",
    "    plt.rcParams.update({'axes.titlesize': 20})\n",
    "    plt.show()\n",
    "interact(sierpinski, order=IntSlider(min=0, max=7, step=1, value=3, description=\"ітерації\"), figsize=fixed((10, 8.75)))\n",
    "#display(interact(sierpinski, order=IntSlider(min=0, max=8, step=1, value=0), figsize=fixed((8, 7))))"
   ]
  },
  {
   "cell_type": "markdown",
   "id": "b19c48c9",
   "metadata": {},
   "source": [
    "### 3. Сет Мандельброта\n",
    "Множина Мандельброта визначається множиною комплексних чисел $c$, для яких послідовність $z_n$ (де $z_{0}=0$ та $z_{n+1}=z_{n}^2+c$) може або залишатися обмеженою або прямувати до нескінченності зі збільшенням $n$. Якщо послідовність залишається обмеженою (не дійшовши до нескінченності) для конкретного $c$ після великої кількості ітерацій, ми вважаємо, що $c$ належить множині Мандельброта. В іншому випадку, якщо вона дійшла до нескінченності в певний момент ітерації, $c$ не вважається частиною множини Мандельброта.\n",
    "Ітераційна функція: $$z_{n+1}=z_{n}^2+c$$ Тут $z$ – це комплексне число, що на початку ітерацій $z_{0}=0$."
   ]
  },
  {
   "cell_type": "code",
   "execution_count": 10,
   "id": "543076ad",
   "metadata": {
    "slideshow": {
     "slide_type": "slide"
    }
   },
   "outputs": [
    {
     "data": {
      "application/vnd.jupyter.widget-view+json": {
       "model_id": "4eecf14e62784f0495d8c28972859a28",
       "version_major": 2,
       "version_minor": 0
      },
      "text/plain": [
       "interactive(children=(FloatSlider(value=-0.75, description='x_center', max=1.5, min=-2.5, step=0.05), FloatSli…"
      ]
     },
     "metadata": {},
     "output_type": "display_data"
    },
    {
     "data": {
      "text/plain": [
       "<function __main__.mandelbrot_zoom(x_center, y_center, zoom, max_iter)>"
      ]
     },
     "execution_count": 10,
     "metadata": {},
     "output_type": "execute_result"
    }
   ],
   "source": [
    "import numpy as np\n",
    "import matplotlib.pyplot as plt\n",
    "from ipywidgets import interact, FloatSlider, IntSlider, fixed\n",
    "\n",
    "def mandelbrot(h, w, x_min, x_max, y_min, y_max, max_iter):\n",
    "    x = np.linspace(x_min, x_max, num=w).reshape((1, w))\n",
    "    y = np.linspace(y_min, y_max, num=h).reshape((h, 1))\n",
    "    C = np.tile(x, (h, 1)) + 1j * np.tile(y, (1, w))\n",
    "    \n",
    "    Z = np.zeros(C.shape, dtype=complex)\n",
    "    M = np.zeros(C.shape, dtype=int)\n",
    "    for i in range(max_iter):\n",
    "        mask = np.abs(Z) < 2\n",
    "        M[mask] = i\n",
    "        Z[mask] = Z[mask] ** 2 + C[mask]\n",
    "    return M\n",
    "\n",
    "def mandelbrot_zoom(x_center, y_center, zoom, max_iter):\n",
    "    size = 400\n",
    "    scale_factor = 1.5 / zoom\n",
    "    x_min = x_center - scale_factor\n",
    "    x_max = x_center + scale_factor\n",
    "    y_min = y_center - scale_factor\n",
    "    y_max = y_center + scale_factor\n",
    "    \n",
    "    M = mandelbrot(size, size, x_min, x_max, y_min, y_max, max_iter)\n",
    "    \n",
    "    plt.figure(figsize=(10, 10), facecolor='#FAFEFF')\n",
    "    plt.imshow(M, extent=(x_min, x_max, y_min, y_max), cmap='turbo')\n",
    "    plt.colorbar()\n",
    "    plt.title('Множина Мандельброта')\n",
    "    plt.rcParams.update({'font.size': 20, 'axes.titlesize': 20, 'axes.labelsize': 20})\n",
    "    plt.show()\n",
    "\n",
    "interact(\n",
    "    mandelbrot_zoom,\n",
    "    x_center=FloatSlider(min=-2.5, max=1.5, step=0.05, value=-0.75),\n",
    "    y_center=FloatSlider(min=-2, max=2, step=0.05, value=0),\n",
    "    zoom=FloatSlider(min=1, max=100, step=1, value=1, readout_format='.1f'),\n",
    "    max_iter=IntSlider(min=10, max=1000, step=10, value=100)\n",
    ")"
   ]
  },
  {
   "cell_type": "markdown",
   "id": "b3b61b63",
   "metadata": {},
   "source": [
    "#### Ремарка для користувача\n",
    "Слайдери `x_center` і `y_center` визначають координати центру візуалізації множини Мандельброта, `zoom` регулює рівень збільшення чи зменшення фракталу, а `max_iter` контролює максимальну кількість ітерацій, яка впливає на деталізацію та якість зображення фракталу.\n",
    "\n",
    "Шкала відображає кількість ітерацій, які потрібно для того, щоб точка вийшла за межі визначеного радіусу (в даному випадку радіус $2$).\n",
    "Якщо в процесі ітерації модуль $z$ стає більшим за $2$, то точка вважається \"біжучою\" і не належить множині Мандельброта. Для вивчення динаміки системи на практиці використовують максимальне число ітерацій(`max_iter`). Якщо після встановленого числа ітерацій $z$ не стає більшим за $2$, точка вважається належною до множини Мандельброта.\n",
    "Різні кольори допомагають легко ідентифікувати області, де точки вийшли за радіус після різної кількості ітерацій. Таким чином, ця шкала відображає \"швидкість\" збіжності або розбіжності точок у фракталі Мандельброта."
   ]
  },
  {
   "cell_type": "markdown",
   "id": "ce27ae08",
   "metadata": {},
   "source": [
    "### 4. Сет Жуліа\n",
    "Множина Жуліа – це множина комплексних чисел, яка визначається динамічною системою ітерацій: $z_{n+1}=z_{n}^2+c$, де z – комплексне число, а $c$ – деяка комплексна константа.\n"
   ]
  },
  {
   "cell_type": "code",
   "execution_count": 8,
   "id": "63873c8b",
   "metadata": {
    "slideshow": {
     "slide_type": "slide"
    }
   },
   "outputs": [
    {
     "data": {
      "application/vnd.jupyter.widget-view+json": {
       "model_id": "daf3316181e846afb089cb77a641d649",
       "version_major": 2,
       "version_minor": 0
      },
      "text/plain": [
       "interactive(children=(FloatSlider(value=0.0, description='x_center', max=2.0, min=-2.0, step=0.05), FloatSlide…"
      ]
     },
     "metadata": {},
     "output_type": "display_data"
    },
    {
     "data": {
      "text/plain": [
       "<function __main__.julia_zoom(x_center, y_center, zoom, c_real, c_imag, max_iter)>"
      ]
     },
     "execution_count": 8,
     "metadata": {},
     "output_type": "execute_result"
    }
   ],
   "source": [
    "import numpy as np\n",
    "import matplotlib.pyplot as plt\n",
    "from ipywidgets import interact, FloatSlider, IntSlider\n",
    "\n",
    "def julia_set(h, w, x_min, x_max, y_min, y_max, c, max_iter):\n",
    "    x = np.linspace(x_min, x_max, num=w).reshape((1, w))\n",
    "    y = np.linspace(y_min, y_max, num=h).reshape((h, 1))\n",
    "    Z = np.tile(x, (h, 1)) + 1j * np.tile(y, (1, w))\n",
    "\n",
    "    M = np.zeros(Z.shape, dtype=int)\n",
    "    for i in range(max_iter):\n",
    "        mask = np.abs(Z) < 2\n",
    "        M[mask] = i\n",
    "        Z[mask] = Z[mask] ** 2 + c\n",
    "    return M\n",
    "\n",
    "def julia_zoom(x_center, y_center, zoom, c_real, c_imag, max_iter):\n",
    "    size = 400\n",
    "    scale_factor = 1.5 / zoom\n",
    "    x_min = x_center - scale_factor\n",
    "    x_max = x_center + scale_factor\n",
    "    y_min = y_center - scale_factor\n",
    "    y_max = y_center + scale_factor\n",
    "    \n",
    "    J = julia_set(size, size, x_min, x_max, y_min, y_max, complex(c_real, c_imag), max_iter)\n",
    "    \n",
    "    plt.figure(figsize=(10, 10), facecolor='#FAFEFF')\n",
    "    plt.imshow(J, extent=(x_min, x_max, y_min, y_max), cmap='turbo')\n",
    "    plt.title('Множина Жуліа')\n",
    "    plt.colorbar()\n",
    "    plt.rcParams.update({'font.size': 10, 'axes.titlesize': 20, 'axes.labelsize': 10})\n",
    "    plt.show()\n",
    "\n",
    "interact(\n",
    "    julia_zoom,\n",
    "    x_center=FloatSlider(min=-2, max=2, step=0.05, value=0),\n",
    "    y_center=FloatSlider(min=-2, max=2, step=0.05, value=0),\n",
    "    zoom=FloatSlider(min=1, max=100, step=1, value=1, readout_format='.1f'),\n",
    "    c_real=FloatSlider(min=-2, max=2, step=0.01, value=-0.8),\n",
    "    c_imag=FloatSlider(min=-2, max=2, step=0.01, value=0.156),\n",
    "    max_iter=IntSlider(min=10, max=1000, step=10, value=100)\n",
    ")"
   ]
  },
  {
   "cell_type": "markdown",
   "id": "57cc632b",
   "metadata": {},
   "source": [
    "Відмінність між множиною Мандельброта і множиною Жуліа полягає в початковій точці ітераційного процесу та константі $c$. Для множини Мандельброта початкова точка завжди дорівнює $0$, а $c$ змінюється. Для множини Жуліа $c$ є постійною, а початкова точка $z$ змінюється.\n",
    "#### Ремарка для користувача\n",
    "Для відуалізації множини Жуліа повзунки `x_center` і `y_center` так само визначають положення центру візуалізації множини Жуліа, `zoom` регулює рівень збільшення, a `c_real` із `c_imag` змінюють реальну та уявну частини комплексного параметру $c$, який визначає форму множини Жуліа, і `max_iter` контролює глибину ітерацій, впливаючи на деталізацію зображення.\n",
    "\n",
    "Як і в попередній візуалізації кольорова шкала показує, як швидко значення в певній точці виходять за межі радіуса $2$ під час ітераційного процесу. Колір кожної точки відповідає кількості ітерацій, необхідних для того, щоб визначити, чи належить точка до множини чи ні."
   ]
  },
  {
   "cell_type": "markdown",
   "id": "0d330d60",
   "metadata": {},
   "source": [
    "## Фрактали в природі\n",
    "Як було зазначено раніше - фрактали відомі як геометричні фігури, які демонструють подібність у всьому діапазоні масштабу, тобто вони виглядають однаково незалежно від того, наскільки вони великі чи маленькі. І вони, насправді, всюдисущі в природі. У своїй роботі я розглядаю декілька прикладів таких фракталів.\n",
    "\n",
    "Є багато прикладів фракталів, з якими ми стикаємося в повсякденному житті. Ананаси ростуть за фрактальними законами, а кристали льоду утворюють подібні фрактальні форми. Фрактали дозволяють рослинам максимізувати вплив сонячного світла. Вони дозволяють серцево-судинній системі ефективно транспортувати кисень до всіх частин тіла.\n",
    "### 1. Сніжинки\n",
    "Немає й двох абсолютно однакових по формі сніжинок, але багато з них представляють фрактали, оскільки гілки сніжинки породжують власні бічні гілки.\n",
    "\n",
    "Найвідоміший фрактальний візерунок сніжинки відомий як **сніжинка Коха**, що походить від одного рівностороннього трикутника, який утворює інший, інший і інший. Сніжинка Коха стала одним з найперших описаних фракталів."
   ]
  },
  {
   "cell_type": "code",
   "execution_count": 7,
   "id": "7cdaad3f",
   "metadata": {
    "scrolled": true
   },
   "outputs": [
    {
     "data": {
      "application/vnd.jupyter.widget-view+json": {
       "model_id": "318a33ba4950497e9bb3a42adef9a8a3",
       "version_major": 2,
       "version_minor": 0
      },
      "text/plain": [
       "interactive(children=(IntSlider(value=4, description='ітерації', max=8), Output()), _dom_classes=('widget-inte…"
      ]
     },
     "metadata": {},
     "output_type": "display_data"
    },
    {
     "data": {
      "text/plain": [
       "<function __main__.plot_koch_snowflake(order, figsize=(8, 6))>"
      ]
     },
     "execution_count": 7,
     "metadata": {},
     "output_type": "execute_result"
    }
   ],
   "source": [
    "import numpy as np\n",
    "import matplotlib.pyplot as plt\n",
    "from ipywidgets import interact, IntSlider, fixed\n",
    "\n",
    "def koch_snowflake(order, scale=10):\n",
    "    def koch_curve(points, order):\n",
    "        if order == 0:\n",
    "            return points\n",
    "\n",
    "        new_points = []\n",
    "        for i in range(len(points) - 1):\n",
    "            p1, p2 = points[i], points[i + 1]\n",
    "            u = (p2 - p1) / 3\n",
    "            p3 = p1 + u\n",
    "            p4 = p3 - u * np.exp(np.pi * 1j / 1.5) \n",
    "            p5 = p1 + 2 * u\n",
    "            new_points.extend([p1, p3, p4, p5])\n",
    "        new_points.append(points[-1])\n",
    "        return koch_curve(new_points, order - 1)\n",
    "\n",
    "    triangle = scale * np.exp(np.pi * 1j * np.arange(3) / 1.5)\n",
    "    snowflake = koch_curve(triangle.tolist() + [triangle[0]], order)\n",
    "    return np.real(snowflake), np.imag(snowflake)\n",
    "\n",
    "def plot_koch_snowflake(order, figsize=(8, 6)):\n",
    "    x, y = koch_snowflake(order)\n",
    "    fig, ax = plt.subplots(figsize=figsize, facecolor='#FAFEFF')\n",
    "    ax.plot(x, y, '#000000', linewidth=0.7)\n",
    "    ax.set_axis_off()\n",
    "    ax.set_title('Сніжинка Коха')\n",
    "    plt.rcParams.update({'axes.titlesize': 20})\n",
    "    ax.set_aspect('equal')\n",
    "    plt.show()\n",
    "\n",
    "interact(plot_koch_snowflake,\n",
    "         order=IntSlider(min=0, max=8, step=1, value=4, description=\"ітерації\"),\n",
    "         figsize=fixed((10, 7.5)))"
   ]
  },
  {
   "cell_type": "code",
   "execution_count": 2,
   "id": "512e4511",
   "metadata": {},
   "outputs": [],
   "source": [
    "from IPython.display import display, HTML\n",
    "\n",
    "css = \"\"\"\n",
    "<style>\n",
    ":root {\n",
    "    --jp-content-font-size1: 40px; \n",
    "    --jp-widgets-slider-track-thickness: 12px;\n",
    "    --jp-widgets-slider-handle-size: 25px;\n",
    "    --jp-widgets-font-size: 30;\n",
    "    --jp-widgets-inline-height: 42px;\n",
    "    --jp-widgets-inline-margin: 5px;\n",
    "        --jp-layout-color1: #FAFEFF;\n",
    "}\n",
    ".widget-inline-hbox .widget-label, .jupyter-widget-inline-hbox .jupyter-widget-label {\n",
    "    font-size: 38px;\n",
    "}\n",
    "body {\n",
    "    font-size: 40px;\n",
    "    font-weight: 400;\n",
    "}\n",
    ".widget-hslider, .jupyter-widget-hslider {\n",
    "    width: 400px;\n",
    "}\n",
    ".widget-vbox .widget-label, .jupyter-widget-vbox .jupyter-widget-label {\n",
    "    width: 200px;\n",
    "}\n",
    "::selection {\n",
    "    background: rgb(117 237 153 / 44%);\n",
    "}\n",
    ".jp-RenderedHTMLCommon img, .jp-RenderedImage img, .jp-RenderedHTMLCommon svg, .jp-RenderedSVG svg {\n",
    "    width: 48%;\n",
    "    height: auto;\n",
    "    display: block;\n",
    "    margin-left: auto;\n",
    "    margin-right: auto;\n",
    "}\n",
    "</style>\n",
    "\"\"\"\n",
    "\n",
    "is_voila = 'voila' in get_ipython().config.IPKernelApp.connection_file\n",
    "\n",
    "if is_voila:\n",
    "    display(HTML(css))\n"
   ]
  },
  {
   "cell_type": "code",
   "execution_count": null,
   "id": "828df878",
   "metadata": {},
   "outputs": [],
   "source": []
  }
 ],
 "metadata": {
  "kernelspec": {
   "display_name": "Python 3 (ipykernel)",
   "language": "python",
   "name": "python3"
  },
  "language_info": {
   "codemirror_mode": {
    "name": "ipython",
    "version": 3
   },
   "file_extension": ".py",
   "mimetype": "text/x-python",
   "name": "python",
   "nbconvert_exporter": "python",
   "pygments_lexer": "ipython3",
   "version": "3.11.4"
  }
 },
 "nbformat": 4,
 "nbformat_minor": 5
}
